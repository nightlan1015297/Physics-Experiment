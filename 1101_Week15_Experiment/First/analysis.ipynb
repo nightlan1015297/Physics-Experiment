{
 "cells": [
  {
   "cell_type": "code",
   "execution_count": 1,
   "metadata": {},
   "outputs": [
    {
     "name": "stdout",
     "output_type": "stream",
     "text": [
      "Collecting plotly\n",
      "  Downloading plotly-5.5.0-py2.py3-none-any.whl (26.5 MB)\n",
      "Collecting tenacity>=6.2.0\n",
      "  Downloading tenacity-8.0.1-py3-none-any.whl (24 kB)\n",
      "Requirement already satisfied: six in c:\\users\\nightlan1015297\\appdata\\local\\programs\\python\\python310\\lib\\site-packages (from plotly) (1.16.0)\n",
      "Installing collected packages: tenacity, plotly\n",
      "Successfully installed plotly-5.5.0 tenacity-8.0.1\n",
      "Note: you may need to restart the kernel to use updated packages.\n"
     ]
    }
   ],
   "source": [
    "%pip install plotly"
   ]
  },
  {
   "cell_type": "code",
   "execution_count": 2,
   "metadata": {},
   "outputs": [
    {
     "name": "stdout",
     "output_type": "stream",
     "text": [
      "Requirement already satisfied: numpy in c:\\users\\nightlan1015297\\appdata\\local\\programs\\python\\python310\\lib\\site-packages (1.21.5)\n",
      "Note: you may need to restart the kernel to use updated packages.\n"
     ]
    }
   ],
   "source": [
    "%pip install numpy"
   ]
  },
  {
   "cell_type": "code",
   "execution_count": 1,
   "metadata": {},
   "outputs": [],
   "source": [
    "import os \n",
    "import plotly.graph_objects as go"
   ]
  },
  {
   "cell_type": "code",
   "execution_count": 18,
   "metadata": {},
   "outputs": [],
   "source": [
    "src = '.\\\\S3.log'\n",
    "sample_file = open(os.path.join(src))\n",
    "data = sample_file.read()\n",
    "sample_file.close()\n",
    "\n",
    "data = list(map(int,data.strip().split('\\n')))\n",
    "fig = go.Figure()\n",
    "\n",
    "trace = go.Scattergl(\n",
    "    x=[i for i in range(len(data))],\n",
    "    y=data,\n",
    "    mode='markers',\n",
    "    name= 'data',\n",
    ")\n",
    "fig.add_trace(trace)\n",
    "\n",
    "\n",
    "\n",
    "Xaxis_title = \"Displacement\"\n",
    "Yaxis_title = \"Volt\"\n",
    "fig['layout'].update(width=960,height=720,xaxis_title=Xaxis_title,\n",
    "                        yaxis_title=Yaxis_title,\n",
    "                        font=dict(family='Microsoft JhengHei', size=18,), xaxis=dict(tickangle=0)\n",
    "                        )\n",
    "\n",
    "\n",
    "fig.write_html('Test(Raw).html', auto_open=True)\n"
   ]
  },
  {
   "cell_type": "code",
   "execution_count": 53,
   "metadata": {},
   "outputs": [],
   "source": [
    "src = '.\\\\teraterm.log'\n",
    "sample_file = open(os.path.join(src))\n",
    "data = sample_file.read()\n",
    "sample_file.close()\n",
    "\n",
    "data = list(map(int,data.strip().split('\\n')))\n",
    "fig = go.Figure()\n",
    "\n",
    "trace = go.Scattergl(\n",
    "    x=[i for i in range(len(data))],\n",
    "    y=data,\n",
    "    mode='markers',\n",
    "    name= 'data',\n",
    ")\n",
    "fig.add_trace(trace)\n",
    "\n",
    "\n",
    "\n",
    "Xaxis_title = \"Displacement\"\n",
    "Yaxis_title = \"Volt\"\n",
    "fig['layout'].update(width=960,height=720,xaxis_title=Xaxis_title,\n",
    "                        yaxis_title=Yaxis_title,\n",
    "                        font=dict(family='Microsoft JhengHei', size=18,), xaxis=dict(tickangle=0)\n",
    "                        )\n",
    "\n",
    "\n",
    "fig.write_html('Singleslits(Raw).html', auto_open=True)\n"
   ]
  },
  {
   "cell_type": "code",
   "execution_count": 20,
   "metadata": {},
   "outputs": [],
   "source": [
    "src = '.\\\\teraterm.log'\n",
    "sample_file = open(os.path.join(src))\n",
    "data = sample_file.read()\n",
    "sample_file.close()\n",
    "\n",
    "data = smooth(list(map(int,data.strip().split('\\n'))))\n",
    "fig = go.Figure()\n",
    "\n",
    "trace = go.Scattergl(\n",
    "    x=[i for i in range(len(data))],\n",
    "    y=[1/i for i in data],\n",
    "    mode='markers',\n",
    "    name= 'data',\n",
    ")\n",
    "fig.add_trace(trace)\n",
    "\n",
    "\n",
    "\n",
    "Xaxis_title = \"Displacement\"\n",
    "Yaxis_title = \"Brightness\"\n",
    "fig['layout'].update(width=960,height=720,xaxis_title=Xaxis_title,\n",
    "                        yaxis_title=Yaxis_title,\n",
    "                        font=dict(family='Microsoft JhengHei', size=18,), xaxis=dict(tickangle=0)\n",
    "                        )\n",
    "\n",
    "\n",
    "fig.write_html('Singleslits.html', auto_open=True)\n"
   ]
  },
  {
   "cell_type": "code",
   "execution_count": 17,
   "metadata": {},
   "outputs": [],
   "source": [
    "src = '.\\\\teraterm2.log'\n",
    "sample_file = open(os.path.join(src))\n",
    "data = sample_file.read()\n",
    "sample_file.close()\n",
    "\n",
    "data = list(map(int,data.strip().split('\\n')))\n",
    "fig = go.Figure()\n",
    "\n",
    "\n",
    "trace = go.Scattergl(\n",
    "    x=[i for i in range(len(data))],\n",
    "    y=data,\n",
    "    mode='markers',\n",
    "    name= 'data',\n",
    ")\n",
    "fig.add_trace(trace)\n",
    "\n",
    "\n",
    "\n",
    "Xaxis_title = \"Displacement\"\n",
    "Yaxis_title = \"Volt\"\n",
    "fig['layout'].update(width=960,height=720,xaxis_title=Xaxis_title,\n",
    "                        yaxis_title=Yaxis_title,\n",
    "                        font=dict(family='Microsoft JhengHei', size=18,), xaxis=dict(tickangle=0)\n",
    "                        )\n",
    "\n",
    "\n",
    "fig.write_html('Doubleslits2(Raw).html', auto_open=True)\n"
   ]
  },
  {
   "cell_type": "code",
   "execution_count": 187,
   "metadata": {},
   "outputs": [],
   "source": [
    "src = '.\\\\teraterm2.log'\n",
    "sample_file = open(os.path.join(src))\n",
    "data = sample_file.read()\n",
    "sample_file.close()\n",
    "\n",
    "data = smooth(list(map(int,data.strip().split('\\n'))),3)\n",
    "fig = go.Figure()\n",
    "\n",
    "err = 1/max(data)\n",
    "trace = go.Scattergl(\n",
    "    x=[i for i in range(len(data))],\n",
    "    y=[1/i-err for i in data],\n",
    "    mode='markers',\n",
    "    name= 'data',\n",
    ")\n",
    "fig.add_trace(trace)\n",
    "\n",
    "\n",
    "\n",
    "Xaxis_title = \"Displacement\"\n",
    "Yaxis_title = \"Volt\"\n",
    "fig['layout'].update(width=960,height=720,xaxis_title=Xaxis_title,\n",
    "                        yaxis_title=Yaxis_title,\n",
    "                        font=dict(family='Microsoft JhengHei', size=18,), xaxis=dict(tickangle=0)\n",
    "                        )\n",
    "\n",
    "\n",
    "fig.write_html('Doubleslits2.html', auto_open=True)\n"
   ]
  },
  {
   "cell_type": "code",
   "execution_count": 212,
   "metadata": {},
   "outputs": [],
   "source": [
    "src = '.\\\\teraterm3.log'\n",
    "sample_file = open(os.path.join(src))\n",
    "data = sample_file.read()\n",
    "sample_file.close()\n",
    "\n",
    "data = smooth(list(map(int,data.strip().split('\\n'))),3)\n",
    "fig = go.Figure()\n",
    "\n",
    "err = 1/max(data)\n",
    "trace = go.Scattergl(\n",
    "    x=[i-13263 for i in range(len(data))][13263-5000:13263+5000],\n",
    "    y=[1/(i)-err for i in data][13263-5000:13263+5000],\n",
    "    mode='markers',\n",
    "    name= 'data',\n",
    ")\n",
    "fig.add_trace(trace)\n",
    "\n",
    "\n",
    "\n",
    "Xaxis_title = \"Displacement\"\n",
    "Yaxis_title = \"Volt\"\n",
    "fig['layout'].update(width=960,height=720,xaxis_title=Xaxis_title,\n",
    "                        yaxis_title=Yaxis_title,\n",
    "                        font=dict(family='Microsoft JhengHei', size=18,), xaxis=dict(tickangle=0)\n",
    "                        )\n",
    "\n",
    "\n",
    "fig.write_html('Doubleslits3(Raw).html', auto_open=True)\n"
   ]
  },
  {
   "cell_type": "code",
   "execution_count": 213,
   "metadata": {},
   "outputs": [
    {
     "data": {
      "text/plain": [
       "0.000662723462067366"
      ]
     },
     "execution_count": 213,
     "metadata": {},
     "output_type": "execute_result"
    }
   ],
   "source": [
    "x=[i-13263 for i in range(len(data))][13263-5000:13263+5000]\n",
    "y=[1/(i)-err for i in data][13263-5000:13263+5000]\n",
    "x.pop(5000)\n",
    "y.pop(5000)"
   ]
  },
  {
   "cell_type": "code",
   "execution_count": null,
   "metadata": {},
   "outputs": [],
   "source": []
  },
  {
   "cell_type": "code",
   "execution_count": 249,
   "metadata": {},
   "outputs": [],
   "source": [
    "popt, pcov = curve_fit(inteference,x, y,p0=[650*10**(-9),0.00015,0.00015,2.57],bounds=([0,0,0,0],[np.Inf,np.Inf,np.Inf,np.Inf]),maxfev=5000)"
   ]
  },
  {
   "cell_type": "code",
   "execution_count": 245,
   "metadata": {},
   "outputs": [],
   "source": [
    "popt, pcov = curve_fit(inteference,x, y,p0=[650*10**(-9),0.00015,0.00015,2.57],bounds=([650*10**(-9)*0.95,0.00015*0.95,0.00015*0.95,2.57*0.95],[650*10**(-9)*1.05,0.00015*1.05,0.00015*1.05,2.57*1.05]))"
   ]
  },
  {
   "cell_type": "code",
   "execution_count": 250,
   "metadata": {},
   "outputs": [
    {
     "data": {
      "text/plain": [
       "array([8.58103566e-06, 1.64010868e-03, 3.36665748e-04, 1.95909518e+00])"
      ]
     },
     "execution_count": 250,
     "metadata": {},
     "output_type": "execute_result"
    }
   ],
   "source": [
    "popt"
   ]
  },
  {
   "cell_type": "code",
   "execution_count": 248,
   "metadata": {},
   "outputs": [],
   "source": [
    "src = '.\\\\teraterm3.log'\n",
    "sample_file = open(os.path.join(src))\n",
    "data = sample_file.read()\n",
    "sample_file.close()\n",
    "\n",
    "data = smooth(list(map(int,data.strip().split('\\n'))),3)\n",
    "fig = go.Figure()\n",
    "\n",
    "err = 1/max(data)\n",
    "trace = go.Scattergl(\n",
    "    x=[i-13263 for i in range(len(data))][13263-5000:13263+5000],\n",
    "    y=[1/(i)-err for i in data][13263-5000:13263+5000],\n",
    "    mode='markers',\n",
    "    name= 'data',\n",
    ")\n",
    "trace_fit = go.Scattergl(\n",
    "    x=[i for i in range(-5000,5000)],\n",
    "    y=[inteference(i,650*10**(-9),0.00015,0.00015,2.57) for i in range(-5000,5000)],\n",
    "    mode='lines+markers',\n",
    "    name= 'fit',\n",
    ")\n",
    "fig.add_trace(trace_fit)\n",
    "fig.add_trace(trace)\n",
    "\n",
    "\n",
    "\n",
    "Xaxis_title = \"Displacement(index)\"\n",
    "Yaxis_title = \"Volt\"\n",
    "fig['layout'].update(width=960,height=720,xaxis_title=Xaxis_title,\n",
    "                        yaxis_title=Yaxis_title,\n",
    "                        font=dict(family='Microsoft JhengHei', size=18,), xaxis=dict(tickangle=0)\n",
    "                        )\n",
    "\n",
    "\n",
    "fig.write_html('Doubleslits3(REG).html', auto_open=True)\n"
   ]
  },
  {
   "cell_type": "code",
   "execution_count": 8,
   "metadata": {},
   "outputs": [],
   "source": [
    "src = '.\\\\teraterm4.log'\n",
    "sample_file = open(os.path.join(src))\n",
    "data = sample_file.read()\n",
    "sample_file.close()\n",
    "\n",
    "data = list(map(int,data.strip().split('\\n')))\n",
    "fig = go.Figure()\n",
    "\n",
    "trace = go.Scattergl(\n",
    "    x=[i for i in range(len(data))],\n",
    "    y=data,\n",
    "    mode='markers',\n",
    "    name= 'data',\n",
    ")\n",
    "fig.add_trace(trace)\n",
    "\n",
    "\n",
    "\n",
    "Xaxis_title = \"Displacement\"\n",
    "Yaxis_title = \"Volt\"\n",
    "fig['layout'].update(width=960,height=720,xaxis_title=Xaxis_title,\n",
    "                        yaxis_title=Yaxis_title,\n",
    "                        font=dict(family='Microsoft JhengHei', size=18,), xaxis=dict(tickangle=0)\n",
    "                        )\n",
    "\n",
    "\n",
    "fig.write_html('Doubleslits4.html', auto_open=True)\n"
   ]
  },
  {
   "cell_type": "code",
   "execution_count": 5,
   "metadata": {},
   "outputs": [],
   "source": [
    "\n",
    "def smooth (data,mask):\n",
    "    return[sum(data[i:i+mask])/mask for i in range(len(data)-mask+1)]\n",
    "\n"
   ]
  },
  {
   "cell_type": "code",
   "execution_count": 5,
   "metadata": {},
   "outputs": [],
   "source": [
    "def inteference(x,lmbda,d,a,distance):\n",
    "    sin_theta = abs(indexToM(x)/distance)\n",
    "    return 0.001056063*(np.cos((np.pi*d*sin_theta)/lmbda)**2*(np.sin((np.pi*a*sin_theta)/lmbda)/((np.pi*a*sin_theta)/lmbda))**2)"
   ]
  },
  {
   "cell_type": "code",
   "execution_count": 17,
   "metadata": {},
   "outputs": [],
   "source": [
    "def indexToM(index):\n",
    "    return (212/26)*10**(-3)*(index*1.8)/360"
   ]
  },
  {
   "cell_type": "code",
   "execution_count": 182,
   "metadata": {},
   "outputs": [],
   "source": [
    "popt, pcov = curve_fit(inteference, smooth(x,3), smooth(y,3),p0=[650*10**(-9),0.00015,0.00015,2.50],bounds=([0,0,0,0],[np.Inf,np.Inf,np.Inf,np.Inf]),maxfev=5000)"
   ]
  },
  {
   "cell_type": "code",
   "execution_count": 183,
   "metadata": {},
   "outputs": [
    {
     "data": {
      "text/plain": [
       "array([1.22601178e-05, 1.47228736e-03, 1.93735666e-04, 9.84679827e-01])"
      ]
     },
     "execution_count": 183,
     "metadata": {},
     "output_type": "execute_result"
    }
   ],
   "source": [
    "popt"
   ]
  },
  {
   "cell_type": "code",
   "execution_count": 28,
   "metadata": {},
   "outputs": [
    {
     "name": "stderr",
     "output_type": "stream",
     "text": [
      "C:\\Users\\NIGHTL~1\\AppData\\Local\\Temp/ipykernel_13892/2608343036.py:8: RuntimeWarning:\n",
      "\n",
      "invalid value encountered in double_scalars\n",
      "\n"
     ]
    }
   ],
   "source": [
    "src = '.\\\\teraterm2.log'\n",
    "sample_file = open(os.path.join(src))\n",
    "data = sample_file.read()\n",
    "sample_file.close()\n",
    "\n",
    "def inteference(x,lmbda,d,a,distance):\n",
    "    sin_theta = abs(indexToM(x)/distance)\n",
    "    return 0.001056063*(np.cos((np.pi*d*sin_theta)/lmbda)**2*(np.sin((np.pi*a*sin_theta)/lmbda)/((np.pi*a*sin_theta)/lmbda))**2)\n",
    "\n",
    "data = smooth(list(map(int,data.strip().split('\\n'))),3)\n",
    "fig = go.Figure()\n",
    "\n",
    "err = 1/max(data)\n",
    "trace = go.Scattergl(\n",
    "    x=[indexToM(i-11176) for i in range(len(data))],\n",
    "    y=[(1/i)-err for i in data],\n",
    "    mode='markers',\n",
    "    name= 'data',\n",
    ")\n",
    "trace_fit = go.Scattergl(\n",
    "    x=[indexToM(i-11176) for i in range(len(data))],\n",
    "    y=[inteference(i-11176,670*10**(-9),1*10**(-3),0.15*10**(-3),2.45) for i in range(len(data))],\n",
    "    mode='lines+markers',\n",
    "    name= 'fit',\n",
    ")\n",
    "fig.add_trace(trace_fit)\n",
    "fig.add_trace(trace)\n",
    "\n",
    "\n",
    "\n",
    "Xaxis_title = \"Displacement(cm)\"\n",
    "Yaxis_title = \"Volt\"\n",
    "fig['layout'].update(width=960,height=720,xaxis_title=Xaxis_title,\n",
    "                        yaxis_title=Yaxis_title,\n",
    "                        font=dict(family='Microsoft JhengHei', size=18,), xaxis=dict(tickangle=0)\n",
    "                        )\n",
    "\n",
    "\n",
    "fig.write_html('Doubleslits2(REG).html', auto_open=True)\n"
   ]
  },
  {
   "cell_type": "code",
   "execution_count": 34,
   "metadata": {},
   "outputs": [
    {
     "name": "stderr",
     "output_type": "stream",
     "text": [
      "C:\\Users\\NIGHTL~1\\AppData\\Local\\Temp/ipykernel_13892/3791360186.py:11: RuntimeWarning:\n",
      "\n",
      "invalid value encountered in double_scalars\n",
      "\n"
     ]
    }
   ],
   "source": [
    "src = '.\\\\teraterm3.log'\n",
    "sample_file = open(os.path.join(src))\n",
    "data = sample_file.read()\n",
    "sample_file.close()\n",
    "\n",
    "data = smooth(list(map(int,data.strip().split('\\n'))),3)\n",
    "fig = go.Figure()\n",
    "\n",
    "def inteference(x,lmbda,d,a,distance):\n",
    "    sin_theta = abs(indexToM(x)/distance)\n",
    "    return 662.7235*10**(-6)*(np.cos((np.pi*d*sin_theta)/lmbda)**2*(np.sin((np.pi*a*sin_theta)/lmbda)/((np.pi*a*sin_theta)/lmbda))**2)\n",
    "\n",
    "offset_x = 13263\n",
    "err = 1/max(data)\n",
    "trace = go.Scattergl(\n",
    "    x=[i-offset_x for i in range(len(data))],\n",
    "    y=[(1/i)-err for i in data],\n",
    "    mode='markers',\n",
    "    name= 'data',\n",
    ")\n",
    "trace_fit = go.Scattergl(\n",
    "    x=[i-offset_x for i in range(len(data))],\n",
    "    y=[inteference(i-offset_x,670*10**(-9),1*10**(-3),0.15*10**(-3),2.45) for i in range(len(data))],\n",
    "    mode='lines+markers',\n",
    "    name= 'fit',\n",
    ")\n",
    "fig.add_trace(trace_fit)\n",
    "fig.add_trace(trace)\n",
    "\n",
    "\n",
    "\n",
    "Xaxis_title = \"Displacement\"\n",
    "Yaxis_title = \"Volt\"\n",
    "fig['layout'].update(width=960,height=720,xaxis_title=Xaxis_title,\n",
    "                        yaxis_title=Yaxis_title,\n",
    "                        font=dict(family='Microsoft JhengHei', size=18,), xaxis=dict(tickangle=0)\n",
    "                        )\n",
    "\n",
    "\n",
    "fig.write_html('Doubleslits3(REG).html', auto_open=True)\n"
   ]
  },
  {
   "cell_type": "code",
   "execution_count": 12,
   "metadata": {},
   "outputs": [],
   "source": [
    "src = '.\\\\teraterm3.log'\n",
    "sample_file = open(os.path.join(src))\n",
    "data = sample_file.read()\n",
    "sample_file.close()\n",
    "\n",
    "data = smooth(list(map(int,data.strip().split('\\n'))))\n",
    "fig = go.Figure()\n",
    "\n",
    "trace = go.Scattergl(\n",
    "    x=[i for i in range(len(data))],\n",
    "    y=data,\n",
    "    mode='markers',\n",
    "    name= 'data',\n",
    ")\n",
    "fig.add_trace(trace)\n",
    "\n",
    "\n",
    "\n",
    "Xaxis_title = \"Displacement\"\n",
    "Yaxis_title = \"Volt\"\n",
    "fig['layout'].update(width=960,height=720,xaxis_title=Xaxis_title,\n",
    "                        yaxis_title=Yaxis_title,\n",
    "                        font=dict(family='Microsoft JhengHei', size=18,), xaxis=dict(tickangle=0)\n",
    "                        )\n",
    "\n",
    "\n",
    "fig.write_html('Doubleslits3(Smooth).html', auto_open=True)\n"
   ]
  },
  {
   "cell_type": "code",
   "execution_count": null,
   "metadata": {},
   "outputs": [],
   "source": [
    "src = '.\\\\teraterm3.log'\n",
    "sample_file = open(os.path.join(src))\n",
    "data = sample_file.read()\n",
    "sample_file.close()\n",
    "\n",
    "data = smooth(list(map(int,data.strip().split('\\n'))))\n",
    "fig = go.Figure()\n",
    "\n",
    "trace = go.Scattergl(\n",
    "    x=[i for i in range(len(data))],\n",
    "    y=data,\n",
    "    mode='markers',\n",
    "    name= 'data',\n",
    ")\n",
    "fig.add_trace(trace)\n",
    "\n",
    "trace_fit = go.Scattergl(\n",
    "    x=[i-11176 for i in range(len(data))],\n",
    "    y=[inteference_2(i-11176,popt[0],popt[1],popt[2]) for i in range(len(data))],\n",
    "    mode='lines+markers',\n",
    "    name= 'fit',\n",
    ")\n",
    "fig.add_trace(trace)\n",
    "\n",
    "Xaxis_title = \"Displacement\"\n",
    "Yaxis_title = \"Volt\"\n",
    "fig['layout'].update(width=960,height=720,xaxis_title=Xaxis_title,\n",
    "                        yaxis_title=Yaxis_title,\n",
    "                        font=dict(family='Microsoft JhengHei', size=18,), xaxis=dict(tickangle=0)\n",
    "                        )\n",
    "\n",
    "\n",
    "fig.write_html('Doubleslits3(Smooth).html', auto_open=True)\n",
    "\n"
   ]
  },
  {
   "cell_type": "code",
   "execution_count": 13,
   "metadata": {},
   "outputs": [],
   "source": [
    "src = '.\\\\teraterm4.log'\n",
    "sample_file = open(os.path.join(src))\n",
    "data = sample_file.read()\n",
    "sample_file.close()\n",
    "\n",
    "data = smooth(list(map(int,data.strip().split('\\n'))))\n",
    "fig = go.Figure()\n",
    "\n",
    "trace = go.Scattergl(\n",
    "    x=[i for i in range(len(data))],\n",
    "    y=data,\n",
    "    mode='markers',\n",
    "    name= 'data',\n",
    ")\n",
    "fig.add_trace(trace)\n",
    "\n",
    "\n",
    "\n",
    "Xaxis_title = \"Displacement\"\n",
    "Yaxis_title = \"Volt\"\n",
    "fig['layout'].update(width=960,height=720,xaxis_title=Xaxis_title,\n",
    "                        yaxis_title=Yaxis_title,\n",
    "                        font=dict(family='Microsoft JhengHei', size=18,), xaxis=dict(tickangle=0)\n",
    "                        )\n",
    "\n",
    "\n",
    "fig.write_html('Doubleslits4(Smooth).html', auto_open=True)\n"
   ]
  },
  {
   "cell_type": "code",
   "execution_count": 16,
   "metadata": {},
   "outputs": [
    {
     "name": "stdout",
     "output_type": "stream",
     "text": [
      "Collecting scipy\n",
      "  Downloading scipy-1.7.3-cp310-cp310-win_amd64.whl (34.3 MB)\n",
      "Requirement already satisfied: numpy<1.23.0,>=1.16.5 in c:\\users\\nightlan1015297\\appdata\\local\\programs\\python\\python310\\lib\\site-packages (from scipy) (1.21.5)\n",
      "Installing collected packages: scipy\n",
      "Successfully installed scipy-1.7.3\n",
      "Note: you may need to restart the kernel to use updated packages.\n"
     ]
    }
   ],
   "source": [
    "%pip install scipy"
   ]
  },
  {
   "cell_type": "code",
   "execution_count": 20,
   "metadata": {},
   "outputs": [],
   "source": [
    "from scipy.optimize import curve_fit"
   ]
  },
  {
   "cell_type": "code",
   "execution_count": 9,
   "metadata": {},
   "outputs": [],
   "source": [
    "def func(x, a):\n",
    "    return a * x+1023"
   ]
  },
  {
   "cell_type": "code",
   "execution_count": 3,
   "metadata": {},
   "outputs": [],
   "source": [
    "import numpy as np"
   ]
  },
  {
   "cell_type": "code",
   "execution_count": 33,
   "metadata": {},
   "outputs": [],
   "source": [
    "def translate(data,popt):\n",
    "    var = float(np.cos(np.arctan(popt)))\n",
    "    return list(map(lambda x:x*var,data))"
   ]
  },
  {
   "cell_type": "code",
   "execution_count": 14,
   "metadata": {},
   "outputs": [],
   "source": [
    "src = '.\\\\teraterm.log'\n",
    "sample_file = open(os.path.join(src))\n",
    "data = sample_file.read()\n",
    "sample_file.close()\n",
    "\n",
    "data = np.array(list(zip([i for i in range(len(data))],smooth(list(map(int,data.strip().split('\\n')))))))\n",
    "popt, pcov = curve_fit(func, data[:,0], data[:,1])\n",
    "theta = np.arctan(popt[0])/57.296\n",
    "data = np.matmul(data,[[np.cos(theta),-np.sin(theta)],[np.sin(theta),np.cos(theta)]])\n",
    "fig = go.Figure()\n",
    "\n",
    "trace = go.Scattergl(\n",
    "    x=data[:,0],\n",
    "    y=[1/i for i in data[:,1]],\n",
    "    mode='markers',\n",
    "    name= 'data',\n",
    ")\n",
    "fig.add_trace(trace)\n",
    "\n",
    "\n",
    "\n",
    "Xaxis_title = \"Displacement\"\n",
    "Yaxis_title = \"Volt\"\n",
    "fig['layout'].update(width=960,height=720,xaxis_title=Xaxis_title,\n",
    "                        yaxis_title=Yaxis_title,\n",
    "                        font=dict(family='Microsoft JhengHei', size=18,), xaxis=dict(tickangle=0)\n",
    "                        )\n",
    "\n",
    "\n",
    "fig.write_html('Singleslits(Rotated).html', auto_open=True)\n"
   ]
  },
  {
   "cell_type": "code",
   "execution_count": 21,
   "metadata": {},
   "outputs": [
    {
     "ename": "TypeError",
     "evalue": "smooth() missing 1 required positional argument: 'mask'",
     "output_type": "error",
     "traceback": [
      "\u001b[1;31m---------------------------------------------------------------------------\u001b[0m",
      "\u001b[1;31mTypeError\u001b[0m                                 Traceback (most recent call last)",
      "\u001b[1;32mC:\\Users\\NIGHTL~1\\AppData\\Local\\Temp/ipykernel_13892/1046530250.py\u001b[0m in \u001b[0;36m<module>\u001b[1;34m\u001b[0m\n\u001b[0;32m      4\u001b[0m \u001b[0msample_file\u001b[0m\u001b[1;33m.\u001b[0m\u001b[0mclose\u001b[0m\u001b[1;33m(\u001b[0m\u001b[1;33m)\u001b[0m\u001b[1;33m\u001b[0m\u001b[1;33m\u001b[0m\u001b[0m\n\u001b[0;32m      5\u001b[0m \u001b[1;33m\u001b[0m\u001b[0m\n\u001b[1;32m----> 6\u001b[1;33m \u001b[0mdata\u001b[0m \u001b[1;33m=\u001b[0m \u001b[0mnp\u001b[0m\u001b[1;33m.\u001b[0m\u001b[0marray\u001b[0m\u001b[1;33m(\u001b[0m\u001b[0mlist\u001b[0m\u001b[1;33m(\u001b[0m\u001b[0mzip\u001b[0m\u001b[1;33m(\u001b[0m\u001b[1;33m[\u001b[0m\u001b[0mi\u001b[0m \u001b[1;32mfor\u001b[0m \u001b[0mi\u001b[0m \u001b[1;32min\u001b[0m \u001b[0mrange\u001b[0m\u001b[1;33m(\u001b[0m\u001b[0mlen\u001b[0m\u001b[1;33m(\u001b[0m\u001b[0mdata\u001b[0m\u001b[1;33m)\u001b[0m\u001b[1;33m)\u001b[0m\u001b[1;33m]\u001b[0m\u001b[1;33m,\u001b[0m\u001b[0msmooth\u001b[0m\u001b[1;33m(\u001b[0m\u001b[0mlist\u001b[0m\u001b[1;33m(\u001b[0m\u001b[0mmap\u001b[0m\u001b[1;33m(\u001b[0m\u001b[0mint\u001b[0m\u001b[1;33m,\u001b[0m\u001b[0mdata\u001b[0m\u001b[1;33m.\u001b[0m\u001b[0mstrip\u001b[0m\u001b[1;33m(\u001b[0m\u001b[1;33m)\u001b[0m\u001b[1;33m.\u001b[0m\u001b[0msplit\u001b[0m\u001b[1;33m(\u001b[0m\u001b[1;34m'\\n'\u001b[0m\u001b[1;33m)\u001b[0m\u001b[1;33m)\u001b[0m\u001b[1;33m)\u001b[0m\u001b[1;33m)\u001b[0m\u001b[1;33m)\u001b[0m\u001b[1;33m)\u001b[0m\u001b[1;33m)\u001b[0m\u001b[1;33m\u001b[0m\u001b[1;33m\u001b[0m\u001b[0m\n\u001b[0m\u001b[0;32m      7\u001b[0m \u001b[0mpopt\u001b[0m\u001b[1;33m,\u001b[0m \u001b[0mpcov\u001b[0m \u001b[1;33m=\u001b[0m \u001b[0mcurve_fit\u001b[0m\u001b[1;33m(\u001b[0m\u001b[0mfunc\u001b[0m\u001b[1;33m,\u001b[0m \u001b[0mdata\u001b[0m\u001b[1;33m[\u001b[0m\u001b[1;33m:\u001b[0m\u001b[1;33m,\u001b[0m\u001b[1;36m0\u001b[0m\u001b[1;33m]\u001b[0m\u001b[1;33m,\u001b[0m \u001b[0mdata\u001b[0m\u001b[1;33m[\u001b[0m\u001b[1;33m:\u001b[0m\u001b[1;33m,\u001b[0m\u001b[1;36m1\u001b[0m\u001b[1;33m]\u001b[0m\u001b[1;33m)\u001b[0m\u001b[1;33m\u001b[0m\u001b[1;33m\u001b[0m\u001b[0m\n\u001b[0;32m      8\u001b[0m \u001b[0mtheta\u001b[0m \u001b[1;33m=\u001b[0m \u001b[0mnp\u001b[0m\u001b[1;33m.\u001b[0m\u001b[0marctan\u001b[0m\u001b[1;33m(\u001b[0m\u001b[0mpopt\u001b[0m\u001b[1;33m[\u001b[0m\u001b[1;36m0\u001b[0m\u001b[1;33m]\u001b[0m\u001b[1;33m)\u001b[0m\u001b[1;33m/\u001b[0m\u001b[1;36m57.296\u001b[0m\u001b[1;33m\u001b[0m\u001b[1;33m\u001b[0m\u001b[0m\n",
      "\u001b[1;31mTypeError\u001b[0m: smooth() missing 1 required positional argument: 'mask'"
     ]
    }
   ],
   "source": [
    "src = '.\\\\teraterm2.log'\n",
    "sample_file = open(os.path.join(src))\n",
    "data = sample_file.read()\n",
    "sample_file.close()\n",
    "\n",
    "data = np.array(list(zip([i for i in range(len(data))],smooth(list(map(int,data.strip().split('\\n')))))))\n",
    "popt, pcov = curve_fit(func, data[:,0], data[:,1])\n",
    "theta = np.arctan(popt[0])/57.296\n",
    "data = np.matmul(data,[[np.cos(theta),-np.sin(theta)],[np.sin(theta),np.cos(theta)]])\n",
    "fig = go.Figure()\n",
    "\n",
    "trace = go.Scattergl(\n",
    "    x=data[:,0],\n",
    "    y=data[:,1],\n",
    "    mode='markers',\n",
    "    name= 'data',\n",
    ")\n",
    "fig.add_trace(trace)\n",
    "\n",
    "\n",
    "\n",
    "Xaxis_title = \"Displacement\"\n",
    "Yaxis_title = \"Volt\"\n",
    "fig['layout'].update(width=960,height=720,xaxis_title=Xaxis_title,\n",
    "                        yaxis_title=Yaxis_title,\n",
    "                        font=dict(family='Microsoft JhengHei', size=18,), xaxis=dict(tickangle=0)\n",
    "                        )\n",
    "\n",
    "\n",
    "fig.write_html('Doubleslits2(Rotated).html', auto_open=True)\n"
   ]
  },
  {
   "cell_type": "code",
   "execution_count": 22,
   "metadata": {},
   "outputs": [
    {
     "ename": "NameError",
     "evalue": "name 'func' is not defined",
     "output_type": "error",
     "traceback": [
      "\u001b[1;31m---------------------------------------------------------------------------\u001b[0m",
      "\u001b[1;31mNameError\u001b[0m                                 Traceback (most recent call last)",
      "\u001b[1;32mC:\\Users\\NIGHTL~1\\AppData\\Local\\Temp/ipykernel_13892/4149752814.py\u001b[0m in \u001b[0;36m<module>\u001b[1;34m\u001b[0m\n\u001b[0;32m      5\u001b[0m \u001b[1;33m\u001b[0m\u001b[0m\n\u001b[0;32m      6\u001b[0m \u001b[0mdata\u001b[0m \u001b[1;33m=\u001b[0m \u001b[0mnp\u001b[0m\u001b[1;33m.\u001b[0m\u001b[0marray\u001b[0m\u001b[1;33m(\u001b[0m\u001b[0mlist\u001b[0m\u001b[1;33m(\u001b[0m\u001b[0mzip\u001b[0m\u001b[1;33m(\u001b[0m\u001b[1;33m[\u001b[0m\u001b[0mi\u001b[0m \u001b[1;32mfor\u001b[0m \u001b[0mi\u001b[0m \u001b[1;32min\u001b[0m \u001b[0mrange\u001b[0m\u001b[1;33m(\u001b[0m\u001b[0mlen\u001b[0m\u001b[1;33m(\u001b[0m\u001b[0mdata\u001b[0m\u001b[1;33m)\u001b[0m\u001b[1;33m)\u001b[0m\u001b[1;33m]\u001b[0m\u001b[1;33m,\u001b[0m\u001b[0msmooth\u001b[0m\u001b[1;33m(\u001b[0m\u001b[0mlist\u001b[0m\u001b[1;33m(\u001b[0m\u001b[0mmap\u001b[0m\u001b[1;33m(\u001b[0m\u001b[0mint\u001b[0m\u001b[1;33m,\u001b[0m\u001b[0mdata\u001b[0m\u001b[1;33m.\u001b[0m\u001b[0mstrip\u001b[0m\u001b[1;33m(\u001b[0m\u001b[1;33m)\u001b[0m\u001b[1;33m.\u001b[0m\u001b[0msplit\u001b[0m\u001b[1;33m(\u001b[0m\u001b[1;34m'\\n'\u001b[0m\u001b[1;33m)\u001b[0m\u001b[1;33m)\u001b[0m\u001b[1;33m)\u001b[0m\u001b[1;33m,\u001b[0m\u001b[1;36m3\u001b[0m\u001b[1;33m)\u001b[0m\u001b[1;33m)\u001b[0m\u001b[1;33m)\u001b[0m\u001b[1;33m)\u001b[0m\u001b[1;33m\u001b[0m\u001b[1;33m\u001b[0m\u001b[0m\n\u001b[1;32m----> 7\u001b[1;33m \u001b[0mpopt\u001b[0m\u001b[1;33m,\u001b[0m \u001b[0mpcov\u001b[0m \u001b[1;33m=\u001b[0m \u001b[0mcurve_fit\u001b[0m\u001b[1;33m(\u001b[0m\u001b[0mfunc\u001b[0m\u001b[1;33m,\u001b[0m \u001b[0mdata\u001b[0m\u001b[1;33m[\u001b[0m\u001b[1;33m:\u001b[0m\u001b[1;33m,\u001b[0m\u001b[1;36m0\u001b[0m\u001b[1;33m]\u001b[0m\u001b[1;33m,\u001b[0m \u001b[0mdata\u001b[0m\u001b[1;33m[\u001b[0m\u001b[1;33m:\u001b[0m\u001b[1;33m,\u001b[0m\u001b[1;36m1\u001b[0m\u001b[1;33m]\u001b[0m\u001b[1;33m)\u001b[0m\u001b[1;33m\u001b[0m\u001b[1;33m\u001b[0m\u001b[0m\n\u001b[0m\u001b[0;32m      8\u001b[0m \u001b[0mtheta\u001b[0m \u001b[1;33m=\u001b[0m \u001b[0mnp\u001b[0m\u001b[1;33m.\u001b[0m\u001b[0marctan\u001b[0m\u001b[1;33m(\u001b[0m\u001b[0mpopt\u001b[0m\u001b[1;33m[\u001b[0m\u001b[1;36m0\u001b[0m\u001b[1;33m]\u001b[0m\u001b[1;33m)\u001b[0m\u001b[1;33m/\u001b[0m\u001b[1;36m57.296\u001b[0m\u001b[1;33m\u001b[0m\u001b[1;33m\u001b[0m\u001b[0m\n\u001b[0;32m      9\u001b[0m \u001b[0mdata\u001b[0m \u001b[1;33m=\u001b[0m \u001b[0mnp\u001b[0m\u001b[1;33m.\u001b[0m\u001b[0mmatmul\u001b[0m\u001b[1;33m(\u001b[0m\u001b[0mdata\u001b[0m\u001b[1;33m,\u001b[0m\u001b[1;33m[\u001b[0m\u001b[1;33m[\u001b[0m\u001b[0mnp\u001b[0m\u001b[1;33m.\u001b[0m\u001b[0mcos\u001b[0m\u001b[1;33m(\u001b[0m\u001b[0mtheta\u001b[0m\u001b[1;33m)\u001b[0m\u001b[1;33m,\u001b[0m\u001b[1;33m-\u001b[0m\u001b[0mnp\u001b[0m\u001b[1;33m.\u001b[0m\u001b[0msin\u001b[0m\u001b[1;33m(\u001b[0m\u001b[0mtheta\u001b[0m\u001b[1;33m)\u001b[0m\u001b[1;33m]\u001b[0m\u001b[1;33m,\u001b[0m\u001b[1;33m[\u001b[0m\u001b[0mnp\u001b[0m\u001b[1;33m.\u001b[0m\u001b[0msin\u001b[0m\u001b[1;33m(\u001b[0m\u001b[0mtheta\u001b[0m\u001b[1;33m)\u001b[0m\u001b[1;33m,\u001b[0m\u001b[0mnp\u001b[0m\u001b[1;33m.\u001b[0m\u001b[0mcos\u001b[0m\u001b[1;33m(\u001b[0m\u001b[0mtheta\u001b[0m\u001b[1;33m)\u001b[0m\u001b[1;33m]\u001b[0m\u001b[1;33m]\u001b[0m\u001b[1;33m)\u001b[0m\u001b[1;33m\u001b[0m\u001b[1;33m\u001b[0m\u001b[0m\n",
      "\u001b[1;31mNameError\u001b[0m: name 'func' is not defined"
     ]
    }
   ],
   "source": [
    "src = '.\\\\teraterm3.log'\n",
    "sample_file = open(os.path.join(src))\n",
    "data = sample_file.read()\n",
    "sample_file.close()\n",
    "\n",
    "data = np.array(list(zip([i for i in range(len(data))],smooth(list(map(int,data.strip().split('\\n'))),3))))\n",
    "popt, pcov = curve_fit(func, data[:,0], data[:,1])\n",
    "theta = np.arctan(popt[0])/57.296\n",
    "data = np.matmul(data,[[np.cos(theta),-np.sin(theta)],[np.sin(theta),np.cos(theta)]])\n",
    "fig = go.Figure()\n",
    "\n",
    "trace = go.Scattergl(\n",
    "    x=data[:,0],\n",
    "    y=data[:,1]*-1+1023,\n",
    "    mode='markers',\n",
    "    name= 'data',\n",
    ")\n",
    "fig.add_trace(trace)\n",
    "\n",
    "\n",
    "\n",
    "Xaxis_title = \"Displacement\"\n",
    "Yaxis_title = \"Volt\"\n",
    "fig['layout'].update(width=960,height=720,xaxis_title=Xaxis_title,\n",
    "                        yaxis_title=Yaxis_title,\n",
    "                        font=dict(family='Microsoft JhengHei', size=18,), xaxis=dict(tickangle=0)\n",
    "                        )\n",
    "\n",
    "\n",
    "fig.write_html('Doubleslits3(Rotated).html', auto_open=True)\n"
   ]
  },
  {
   "cell_type": "code",
   "execution_count": 46,
   "metadata": {},
   "outputs": [
    {
     "name": "stdout",
     "output_type": "stream",
     "text": [
      "[-0.00255992]\n"
     ]
    }
   ],
   "source": [
    "src = '.\\\\teraterm4.log'\n",
    "sample_file = open(os.path.join(src))\n",
    "data = sample_file.read()\n",
    "sample_file.close()\n",
    "\n",
    "data = np.array(list(zip([i for i in range(len(data))],smooth(list(map(int,data.strip().split('\\n')))))))\n",
    "data = np.matmul(data,[[np.cos(theta),-np.sin(theta)],[np.sin(theta),np.cos(theta)]])\n",
    "fig = go.Figure()\n",
    "\n",
    "trace = go.Scattergl(\n",
    "    x=data[:,0],\n",
    "    y=data[:,1],\n",
    "    mode='markers',\n",
    "    name= 'data',\n",
    ")\n",
    "fig.add_trace(trace)\n",
    "\n",
    "\n",
    "\n",
    "Xaxis_title = \"Displacement\"\n",
    "Yaxis_title = \"Volt\"\n",
    "fig['layout'].update(width=960,height=720,xaxis_title=Xaxis_title,\n",
    "                        yaxis_title=Yaxis_title,\n",
    "                        font=dict(family='Microsoft JhengHei', size=18,), xaxis=dict(tickangle=0)\n",
    "                        )\n",
    "\n",
    "\n",
    "fig.write_html('Doubleslits4(Rotated).html', auto_open=True)\n"
   ]
  },
  {
   "cell_type": "code",
   "execution_count": 37,
   "metadata": {},
   "outputs": [
    {
     "name": "stdout",
     "output_type": "stream",
     "text": [
      "0.9980667074704188\n"
     ]
    }
   ],
   "source": [
    "print(float(np.cos(np.arctan(0.0622722))))"
   ]
  },
  {
   "cell_type": "code",
   "execution_count": 17,
   "metadata": {},
   "outputs": [
    {
     "data": {
      "text/plain": [
       "array([[1, 3],\n",
       "       [2, 4]])"
      ]
     },
     "execution_count": 17,
     "metadata": {},
     "output_type": "execute_result"
    }
   ],
   "source": [
    "np.array(list(zip([1,2],[3,4])))"
   ]
  },
  {
   "cell_type": "code",
   "execution_count": 10,
   "metadata": {},
   "outputs": [
    {
     "data": {
      "text/plain": [
       "array([3, 8])"
      ]
     },
     "execution_count": 10,
     "metadata": {},
     "output_type": "execute_result"
    }
   ],
   "source": []
  },
  {
   "cell_type": "code",
   "execution_count": 16,
   "metadata": {},
   "outputs": [
    {
     "data": {
      "text/plain": [
       "array([[13, 16],\n",
       "       [37, 46],\n",
       "       [61, 76]])"
      ]
     },
     "execution_count": 16,
     "metadata": {},
     "output_type": "execute_result"
    }
   ],
   "source": [
    "np.matmul(np.array([[1,2],[4,5],[7,8]]),np.array([[3,4],[5,6]]))"
   ]
  },
  {
   "cell_type": "code",
   "execution_count": null,
   "metadata": {},
   "outputs": [],
   "source": []
  }
 ],
 "metadata": {
  "interpreter": {
   "hash": "de7dfd8d578ac1d43f2eb01ade05af5210fa879bae0988a48fcaf7cd4f0c8839"
  },
  "kernelspec": {
   "display_name": "Python 3.10.1 64-bit",
   "language": "python",
   "name": "python3"
  },
  "language_info": {
   "codemirror_mode": {
    "name": "ipython",
    "version": 3
   },
   "file_extension": ".py",
   "mimetype": "text/x-python",
   "name": "python",
   "nbconvert_exporter": "python",
   "pygments_lexer": "ipython3",
   "version": "3.10.1"
  },
  "orig_nbformat": 4
 },
 "nbformat": 4,
 "nbformat_minor": 2
}
